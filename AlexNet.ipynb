{
  "cells": [
    {
      "cell_type": "code",
      "execution_count": null,
      "metadata": {
        "_cell_guid": "b1076dfc-b9ad-4769-8c92-a6c4dae69d19",
        "_uuid": "8f2839f25d086af736a60e9eeb907d3b93b6e0e5",
        "execution": {
          "iopub.execute_input": "2023-04-10T16:15:15.597042Z",
          "iopub.status.busy": "2023-04-10T16:15:15.596757Z",
          "iopub.status.idle": "2023-04-10T16:15:17.102711Z",
          "shell.execute_reply": "2023-04-10T16:15:17.101561Z",
          "shell.execute_reply.started": "2023-04-10T16:15:15.597014Z"
        },
        "id": "DrWF9rsR-tqt"
      },
      "outputs": [],
      "source": [
        "import numpy as np # linear algebra\n",
        "import pandas as pd # data processing, CSV file I/O (e.g. pd.read_csv)\n",
        "\n",
        "import os\n",
        "\"\"\"\n",
        "for dirname, _, filenames in os.walk('/kaggle/input'):\n",
        "    for filename in filenames:\n",
        "        print(os.path.join(dirname, filename))\n",
        "\"\"\"\n",
        "import cv2\n",
        "import matplotlib.pyplot as plt\n",
        "import seaborn as sns\n",
        "from sklearn import preprocessing\n",
        "#from sklearn.model import train_test_split"
      ]
    },
    {
      "cell_type": "code",
      "execution_count": null,
      "metadata": {
        "execution": {
          "iopub.execute_input": "2023-04-10T16:15:17.106074Z",
          "iopub.status.busy": "2023-04-10T16:15:17.105713Z",
          "iopub.status.idle": "2023-04-10T16:15:17.208125Z",
          "shell.execute_reply": "2023-04-10T16:15:17.206816Z",
          "shell.execute_reply.started": "2023-04-10T16:15:17.106037Z"
        },
        "id": "PHEKYB1K-tqy",
        "outputId": "918b6c1b-2d53-4cc8-d89c-e220aaa4fde1"
      },
      "outputs": [
        {
          "data": {
            "text/html": [
              "<div>\n",
              "<style scoped>\n",
              "    .dataframe tbody tr th:only-of-type {\n",
              "        vertical-align: middle;\n",
              "    }\n",
              "\n",
              "    .dataframe tbody tr th {\n",
              "        vertical-align: top;\n",
              "    }\n",
              "\n",
              "    .dataframe thead th {\n",
              "        text-align: right;\n",
              "    }\n",
              "</style>\n",
              "<table border=\"1\" class=\"dataframe\">\n",
              "  <thead>\n",
              "    <tr style=\"text-align: right;\">\n",
              "      <th></th>\n",
              "      <th>File_path</th>\n",
              "      <th>Label</th>\n",
              "      <th>Numeric_Label</th>\n",
              "    </tr>\n",
              "  </thead>\n",
              "  <tbody>\n",
              "    <tr>\n",
              "      <th>0</th>\n",
              "      <td>/kaggle/input/images-intro2ml/dogs/1.jpg</td>\n",
              "      <td>dogs</td>\n",
              "      <td>0</td>\n",
              "    </tr>\n",
              "    <tr>\n",
              "      <th>1</th>\n",
              "      <td>/kaggle/input/images-intro2ml/dogs/2.jpg</td>\n",
              "      <td>dogs</td>\n",
              "      <td>0</td>\n",
              "    </tr>\n",
              "    <tr>\n",
              "      <th>2</th>\n",
              "      <td>/kaggle/input/images-intro2ml/dogs/3.jpg</td>\n",
              "      <td>dogs</td>\n",
              "      <td>0</td>\n",
              "    </tr>\n",
              "    <tr>\n",
              "      <th>3</th>\n",
              "      <td>/kaggle/input/images-intro2ml/dogs/4.jpg</td>\n",
              "      <td>dogs</td>\n",
              "      <td>0</td>\n",
              "    </tr>\n",
              "    <tr>\n",
              "      <th>4</th>\n",
              "      <td>/kaggle/input/images-intro2ml/dogs/5.jpg</td>\n",
              "      <td>dogs</td>\n",
              "      <td>0</td>\n",
              "    </tr>\n",
              "  </tbody>\n",
              "</table>\n",
              "</div>"
            ],
            "text/plain": [
              "                                  File_path Label  Numeric_Label\n",
              "0  /kaggle/input/images-intro2ml/dogs/1.jpg  dogs              0\n",
              "1  /kaggle/input/images-intro2ml/dogs/2.jpg  dogs              0\n",
              "2  /kaggle/input/images-intro2ml/dogs/3.jpg  dogs              0\n",
              "3  /kaggle/input/images-intro2ml/dogs/4.jpg  dogs              0\n",
              "4  /kaggle/input/images-intro2ml/dogs/5.jpg  dogs              0"
            ]
          },
          "execution_count": 2,
          "metadata": {},
          "output_type": "execute_result"
        }
      ],
      "source": [
        "data = pd.read_csv(\"/kaggle/input/meta-data-intro2ml/meta_data.csv\")\n",
        "data.head()"
      ]
    },
    {
      "cell_type": "code",
      "execution_count": null,
      "metadata": {
        "execution": {
          "iopub.execute_input": "2023-04-10T16:15:17.214075Z",
          "iopub.status.busy": "2023-04-10T16:15:17.213587Z",
          "iopub.status.idle": "2023-04-10T16:15:17.253112Z",
          "shell.execute_reply": "2023-04-10T16:15:17.251605Z",
          "shell.execute_reply.started": "2023-04-10T16:15:17.214032Z"
        },
        "id": "MLVcBpcW-tqz",
        "outputId": "c8a473fe-ce1c-4c98-8f31-390d446dcfad"
      },
      "outputs": [
        {
          "name": "stdout",
          "output_type": "stream",
          "text": [
            "<class 'pandas.core.frame.DataFrame'>\n",
            "RangeIndex: 30000 entries, 0 to 29999\n",
            "Data columns (total 3 columns):\n",
            " #   Column         Non-Null Count  Dtype   \n",
            "---  ------         --------------  -----   \n",
            " 0   File_path      30000 non-null  object  \n",
            " 1   Label          30000 non-null  object  \n",
            " 2   Numeric_Label  30000 non-null  category\n",
            "dtypes: category(1), object(2)\n",
            "memory usage: 498.3+ KB\n"
          ]
        }
      ],
      "source": [
        "data[\"Numeric_Label\"] = data[\"Numeric_Label\"].astype(\"category\")\n",
        "data.info()"
      ]
    },
    {
      "cell_type": "code",
      "execution_count": null,
      "metadata": {
        "execution": {
          "iopub.execute_input": "2023-04-10T16:15:17.259573Z",
          "iopub.status.busy": "2023-04-10T16:15:17.258453Z",
          "iopub.status.idle": "2023-04-10T16:15:17.275246Z",
          "shell.execute_reply": "2023-04-10T16:15:17.274394Z",
          "shell.execute_reply.started": "2023-04-10T16:15:17.259526Z"
        },
        "id": "KT6S8A9D-tq0",
        "outputId": "72ef71ef-721c-4e5d-9eb9-6e0149b89a58"
      },
      "outputs": [
        {
          "data": {
            "text/plain": [
              "0    10000\n",
              "1    10000\n",
              "2    10000\n",
              "Name: Numeric_Label, dtype: int64"
            ]
          },
          "execution_count": 4,
          "metadata": {},
          "output_type": "execute_result"
        }
      ],
      "source": [
        "data[\"Numeric_Label\"].value_counts()"
      ]
    },
    {
      "cell_type": "code",
      "execution_count": null,
      "metadata": {
        "execution": {
          "iopub.execute_input": "2023-04-10T16:15:17.277295Z",
          "iopub.status.busy": "2023-04-10T16:15:17.276549Z",
          "iopub.status.idle": "2023-04-10T16:15:17.291734Z",
          "shell.execute_reply": "2023-04-10T16:15:17.290661Z",
          "shell.execute_reply.started": "2023-04-10T16:15:17.277253Z"
        },
        "id": "2WdvCQ7c-tq0",
        "outputId": "6f5f8df6-1263-448b-b44e-a07ee0d5ead7"
      },
      "outputs": [
        {
          "data": {
            "text/html": [
              "<div>\n",
              "<style scoped>\n",
              "    .dataframe tbody tr th:only-of-type {\n",
              "        vertical-align: middle;\n",
              "    }\n",
              "\n",
              "    .dataframe tbody tr th {\n",
              "        vertical-align: top;\n",
              "    }\n",
              "\n",
              "    .dataframe thead th {\n",
              "        text-align: right;\n",
              "    }\n",
              "</style>\n",
              "<table border=\"1\" class=\"dataframe\">\n",
              "  <thead>\n",
              "    <tr style=\"text-align: right;\">\n",
              "      <th></th>\n",
              "      <th>File_path</th>\n",
              "      <th>Label</th>\n",
              "      <th>Numeric_Label</th>\n",
              "    </tr>\n",
              "  </thead>\n",
              "  <tbody>\n",
              "    <tr>\n",
              "      <th>10000</th>\n",
              "      <td>/kaggle/input/images-intro2ml/vehicles/1.jpg</td>\n",
              "      <td>vehicles</td>\n",
              "      <td>1</td>\n",
              "    </tr>\n",
              "    <tr>\n",
              "      <th>10001</th>\n",
              "      <td>/kaggle/input/images-intro2ml/vehicles/2.jpg</td>\n",
              "      <td>vehicles</td>\n",
              "      <td>1</td>\n",
              "    </tr>\n",
              "    <tr>\n",
              "      <th>10002</th>\n",
              "      <td>/kaggle/input/images-intro2ml/vehicles/3.jpg</td>\n",
              "      <td>vehicles</td>\n",
              "      <td>1</td>\n",
              "    </tr>\n",
              "    <tr>\n",
              "      <th>10003</th>\n",
              "      <td>/kaggle/input/images-intro2ml/vehicles/4.jpg</td>\n",
              "      <td>vehicles</td>\n",
              "      <td>1</td>\n",
              "    </tr>\n",
              "    <tr>\n",
              "      <th>10004</th>\n",
              "      <td>/kaggle/input/images-intro2ml/vehicles/5.jpg</td>\n",
              "      <td>vehicles</td>\n",
              "      <td>1</td>\n",
              "    </tr>\n",
              "  </tbody>\n",
              "</table>\n",
              "</div>"
            ],
            "text/plain": [
              "                                          File_path     Label Numeric_Label\n",
              "10000  /kaggle/input/images-intro2ml/vehicles/1.jpg  vehicles             1\n",
              "10001  /kaggle/input/images-intro2ml/vehicles/2.jpg  vehicles             1\n",
              "10002  /kaggle/input/images-intro2ml/vehicles/3.jpg  vehicles             1\n",
              "10003  /kaggle/input/images-intro2ml/vehicles/4.jpg  vehicles             1\n",
              "10004  /kaggle/input/images-intro2ml/vehicles/5.jpg  vehicles             1"
            ]
          },
          "execution_count": 5,
          "metadata": {},
          "output_type": "execute_result"
        }
      ],
      "source": [
        "data[data[\"Numeric_Label\"] == 1].head()\n",
        "#0 ---> Dogs\n",
        "#1 ---> Vehicles\n",
        "#2 ---> Food"
      ]
    },
    {
      "cell_type": "code",
      "execution_count": null,
      "metadata": {
        "execution": {
          "iopub.execute_input": "2023-04-10T16:15:17.293890Z",
          "iopub.status.busy": "2023-04-10T16:15:17.293225Z",
          "iopub.status.idle": "2023-04-10T16:15:18.010546Z",
          "shell.execute_reply": "2023-04-10T16:15:18.009303Z",
          "shell.execute_reply.started": "2023-04-10T16:15:17.293853Z"
        },
        "id": "0Qy-yr5J-tq1",
        "outputId": "5ede66ff-56be-4fae-d6cd-b2ce0e04de98"
      },
      "outputs": [
        {
          "data": {
            "image/png": "[encoded data removed]",
            "text/plain": [
              "<Figure size 300x800 with 1 Axes>"
            ]
          },
          "metadata": {},
          "output_type": "display_data"
        },
        {
          "data": {
            "image/png": "[encoded data removed]",
            "text/plain": [
              "<Figure size 640x480 with 1 Axes>"
            ]
          },
          "metadata": {},
          "output_type": "display_data"
        },
        {
          "data": {
            "image/png": "[encoded data removed]",
            "text/plain": [
              "<Figure size 640x480 with 1 Axes>"
            ]
          },
          "metadata": {},
          "output_type": "display_data"
        }
      ],
      "source": [
        "plt.figure(figsize = (3,8))\n",
        "#Rendering Dog\n",
        "image = cv2.imread(data.iloc[3][\"File_path\"], cv2.COLOR_BGR2RGB)\n",
        "plt.imshow(image)\n",
        "plt.show()\n",
        "#Rendering Car\n",
        "image = cv2.imread(data.iloc[10003][\"File_path\"], cv2.COLOR_BGR2RGB)\n",
        "plt.imshow(image)\n",
        "plt.show()\n",
        "#Rendering Food\n",
        "image = cv2.imread(data.iloc[20003][\"File_path\"], cv2.COLOR_BGR2RGB)\n",
        "plt.imshow(image)\n",
        "plt.show()"
      ]
    },
    {
      "cell_type": "code",
      "execution_count": null,
      "metadata": {
        "execution": {
          "iopub.execute_input": "2023-04-10T16:15:18.015483Z",
          "iopub.status.busy": "2023-04-10T16:15:18.015095Z",
          "iopub.status.idle": "2023-04-10T16:15:18.035711Z",
          "shell.execute_reply": "2023-04-10T16:15:18.034765Z",
          "shell.execute_reply.started": "2023-04-10T16:15:18.015449Z"
        },
        "id": "_oF8CfeP-tq2",
        "outputId": "f3391a2c-c53b-4a92-cf8b-c46f3db6e9bb"
      },
      "outputs": [
        {
          "data": {
            "text/html": [
              "<div>\n",
              "<style scoped>\n",
              "    .dataframe tbody tr th:only-of-type {\n",
              "        vertical-align: middle;\n",
              "    }\n",
              "\n",
              "    .dataframe tbody tr th {\n",
              "        vertical-align: top;\n",
              "    }\n",
              "\n",
              "    .dataframe thead th {\n",
              "        text-align: right;\n",
              "    }\n",
              "</style>\n",
              "<table border=\"1\" class=\"dataframe\">\n",
              "  <thead>\n",
              "    <tr style=\"text-align: right;\">\n",
              "      <th></th>\n",
              "      <th>File_path</th>\n",
              "      <th>Label</th>\n",
              "      <th>Numeric_Label</th>\n",
              "    </tr>\n",
              "  </thead>\n",
              "  <tbody>\n",
              "    <tr>\n",
              "      <th>7568</th>\n",
              "      <td>/kaggle/input/images-intro2ml/dogs/7569.jpg</td>\n",
              "      <td>dogs</td>\n",
              "      <td>0</td>\n",
              "    </tr>\n",
              "    <tr>\n",
              "      <th>347</th>\n",
              "      <td>/kaggle/input/images-intro2ml/dogs/348.jpg</td>\n",
              "      <td>dogs</td>\n",
              "      <td>0</td>\n",
              "    </tr>\n",
              "    <tr>\n",
              "      <th>29625</th>\n",
              "      <td>/kaggle/input/images-intro2ml/food/9626.jpg</td>\n",
              "      <td>food</td>\n",
              "      <td>2</td>\n",
              "    </tr>\n",
              "    <tr>\n",
              "      <th>2143</th>\n",
              "      <td>/kaggle/input/images-intro2ml/dogs/2144.jpg</td>\n",
              "      <td>dogs</td>\n",
              "      <td>0</td>\n",
              "    </tr>\n",
              "    <tr>\n",
              "      <th>22073</th>\n",
              "      <td>/kaggle/input/images-intro2ml/food/2074.jpg</td>\n",
              "      <td>food</td>\n",
              "      <td>2</td>\n",
              "    </tr>\n",
              "  </tbody>\n",
              "</table>\n",
              "</div>"
            ],
            "text/plain": [
              "                                         File_path Label Numeric_Label\n",
              "7568   /kaggle/input/images-intro2ml/dogs/7569.jpg  dogs             0\n",
              "347     /kaggle/input/images-intro2ml/dogs/348.jpg  dogs             0\n",
              "29625  /kaggle/input/images-intro2ml/food/9626.jpg  food             2\n",
              "2143   /kaggle/input/images-intro2ml/dogs/2144.jpg  dogs             0\n",
              "22073  /kaggle/input/images-intro2ml/food/2074.jpg  food             2"
            ]
          },
          "execution_count": 7,
          "metadata": {},
          "output_type": "execute_result"
        }
      ],
      "source": [
        "data = data.sample(frac = 1)\n",
        "data.head()"
      ]
    },
    {
      "cell_type": "code",
      "execution_count": null,
      "metadata": {
        "execution": {
          "iopub.execute_input": "2023-04-10T16:15:18.041426Z",
          "iopub.status.busy": "2023-04-10T16:15:18.040462Z",
          "iopub.status.idle": "2023-04-10T16:15:18.271121Z",
          "shell.execute_reply": "2023-04-10T16:15:18.267889Z",
          "shell.execute_reply.started": "2023-04-10T16:15:18.041389Z"
        },
        "id": "m-Bk69Yv-tq3",
        "outputId": "db8e33a2-4eba-4546-d0ee-a47e99af3400"
      },
      "outputs": [
        {
          "data": {
            "image/png": "[encoded data removed]",
            "text/plain": [
              "<Figure size 640x480 with 1 Axes>"
            ]
          },
          "metadata": {},
          "output_type": "display_data"
        }
      ],
      "source": [
        "image = cv2.imread(data.iloc[1][\"File_path\"])\n",
        "image = cv2.cvtColor(image, cv2.COLOR_RGB2GRAY)\n",
        "plt.imshow(image, cmap = \"gray\")\n",
        "plt.show()"
      ]
    },
    {
      "cell_type": "code",
      "execution_count": null,
      "metadata": {
        "execution": {
          "iopub.execute_input": "2023-04-10T16:15:18.274551Z",
          "iopub.status.busy": "2023-04-10T16:15:18.273530Z",
          "iopub.status.idle": "2023-04-10T16:19:12.617369Z",
          "shell.execute_reply": "2023-04-10T16:19:12.616149Z",
          "shell.execute_reply.started": "2023-04-10T16:15:18.274513Z"
        },
        "id": "dZq_tRnQ-tq4"
      },
      "outputs": [],
      "source": [
        "#Data Preprocessing\n",
        "image_data = []\n",
        "image_label = []\n",
        "for i in range(0, data.shape[0]):\n",
        "    image = cv2.imread(data.iloc[i][\"File_path\"])\n",
        "    image = cv2.resize(image, (224, 224))\n",
        "    image_data.append(image)\n",
        "    image_label.append(data.iloc[i][\"Numeric_Label\"])"
      ]
    },
    {
      "cell_type": "code",
      "execution_count": null,
      "metadata": {
        "execution": {
          "iopub.execute_input": "2023-04-10T16:40:07.687684Z",
          "iopub.status.busy": "2023-04-10T16:40:07.683907Z",
          "iopub.status.idle": "2023-04-10T16:40:07.698872Z",
          "shell.execute_reply": "2023-04-10T16:40:07.697818Z",
          "shell.execute_reply.started": "2023-04-10T16:40:07.687632Z"
        },
        "id": "W8o2aem2-tq4"
      },
      "outputs": [],
      "source": [
        "#train-test split\n",
        "x_train = image_data[:29000]\n",
        "y_train = image_label[:29000]\n",
        "x_test = image_data[29000:30000]\n",
        "y_test = image_label[29000:30000]"
      ]
    },
    {
      "cell_type": "code",
      "execution_count": null,
      "metadata": {
        "execution": {
          "iopub.execute_input": "2023-04-10T16:19:12.630342Z",
          "iopub.status.busy": "2023-04-10T16:19:12.629613Z",
          "iopub.status.idle": "2023-04-10T16:19:20.450818Z",
          "shell.execute_reply": "2023-04-10T16:19:20.449600Z",
          "shell.execute_reply.started": "2023-04-10T16:19:12.630304Z"
        },
        "id": "mCUw9uOc-tq5"
      },
      "outputs": [],
      "source": [
        "# Label Encoding\n",
        "from keras.utils.np_utils import to_categorical # convert to one-hot-encoding\n",
        "x_train = np.expand_dims(x_train, axis = 0)\n",
        "x_train = np.squeeze(x_train)\n",
        "y_train = to_categorical(y_train, num_classes = 3)"
      ]
    },
    {
      "cell_type": "code",
      "execution_count": null,
      "metadata": {
        "execution": {
          "iopub.execute_input": "2023-04-10T16:19:20.453615Z",
          "iopub.status.busy": "2023-04-10T16:19:20.452723Z",
          "iopub.status.idle": "2023-04-10T16:19:23.783645Z",
          "shell.execute_reply": "2023-04-10T16:19:23.782789Z",
          "shell.execute_reply.started": "2023-04-10T16:19:20.453575Z"
        },
        "id": "uw_DvRV--tq5",
        "outputId": "3b594433-83f8-4581-ee80-d985ad6f4d5a"
      },
      "outputs": [
        {
          "name": "stdout",
          "output_type": "stream",
          "text": [
            "Model: \"sequential\"\n",
            "_________________________________________________________________\n",
            " Layer (type)                Output Shape              Param #   \n",
            "=================================================================\n",
            " conv2d (Conv2D)             (None, 54, 54, 96)        34944     \n",
            "                                                                 \n",
            " max_pooling2d (MaxPooling2D  (None, 27, 27, 96)       0         \n",
            " )                                                               \n",
            "                                                                 \n",
            " batch_normalization (BatchN  (None, 27, 27, 96)       384       \n",
            " ormalization)                                                   \n",
            "                                                                 \n",
            " conv2d_1 (Conv2D)           (None, 17, 17, 256)       2973952   \n",
            "                                                                 \n",
            " max_pooling2d_1 (MaxPooling  (None, 8, 8, 256)        0         \n",
            " 2D)                                                             \n",
            "                                                                 \n",
            " batch_normalization_1 (Batc  (None, 8, 8, 256)        1024      \n",
            " hNormalization)                                                 \n",
            "                                                                 \n",
            " conv2d_2 (Conv2D)           (None, 6, 6, 384)         885120    \n",
            "                                                                 \n",
            " batch_normalization_2 (Batc  (None, 6, 6, 384)        1536      \n",
            " hNormalization)                                                 \n",
            "                                                                 \n",
            " conv2d_3 (Conv2D)           (None, 4, 4, 384)         1327488   \n",
            "                                                                 \n",
            " batch_normalization_3 (Batc  (None, 4, 4, 384)        1536      \n",
            " hNormalization)                                                 \n",
            "                                                                 \n",
            " conv2d_4 (Conv2D)           (None, 2, 2, 256)         884992    \n",
            "                                                                 \n",
            " max_pooling2d_2 (MaxPooling  (None, 1, 1, 256)        0         \n",
            " 2D)                                                             \n",
            "                                                                 \n",
            " batch_normalization_4 (Batc  (None, 1, 1, 256)        1024      \n",
            " hNormalization)                                                 \n",
            "                                                                 \n",
            " flatten (Flatten)           (None, 256)               0         \n",
            "                                                                 \n",
            " dense (Dense)               (None, 4096)              1052672   \n",
            "                                                                 \n",
            " dropout (Dropout)           (None, 4096)              0         \n",
            "                                                                 \n",
            " batch_normalization_5 (Batc  (None, 4096)             16384     \n",
            " hNormalization)                                                 \n",
            "                                                                 \n",
            " dense_1 (Dense)             (None, 4096)              16781312  \n",
            "                                                                 \n",
            " dropout_1 (Dropout)         (None, 4096)              0         \n",
            "                                                                 \n",
            " batch_normalization_6 (Batc  (None, 4096)             16384     \n",
            " hNormalization)                                                 \n",
            "                                                                 \n",
            " dense_2 (Dense)             (None, 1000)              4097000   \n",
            "                                                                 \n",
            " dropout_2 (Dropout)         (None, 1000)              0         \n",
            "                                                                 \n",
            " batch_normalization_7 (Batc  (None, 1000)             4000      \n",
            " hNormalization)                                                 \n",
            "                                                                 \n",
            " dense_3 (Dense)             (None, 3)                 3003      \n",
            "                                                                 \n",
            "=================================================================\n",
            "Total params: 28,082,755\n",
            "Trainable params: 28,061,619\n",
            "Non-trainable params: 21,136\n",
            "_________________________________________________________________\n"
          ]
        }
      ],
      "source": [
        "# Importing Keras libraries and packages\n",
        "from keras.models import Sequential\n",
        "from keras.layers import Convolution2D\n",
        "from keras.layers import MaxPooling2D\n",
        "from keras.layers import Flatten\n",
        "from keras.layers import Dense\n",
        "from keras.layers import Dropout\n",
        "from tensorflow.keras.layers import BatchNormalization\n",
        "\n",
        "# Initializing the CNN\n",
        "model = Sequential()\n",
        "# Convolution Step 1 using padding as 'valid' since input shape is big\n",
        "model.add(Convolution2D(96, 11, strides = (4, 4), padding = 'valid', input_shape=(224, 224, 3), activation = 'relu'))\n",
        "# Max Pooling Step 1\n",
        "model.add(MaxPooling2D(pool_size = (2, 2), strides = (2, 2), padding = 'valid'))\n",
        "model.add(BatchNormalization())\n",
        "# Convolution Step 2\n",
        "model.add(Convolution2D(256, 11, strides = (1, 1), padding='valid', activation = 'relu'))\n",
        "# Max Pooling Step 2\n",
        "model.add(MaxPooling2D(pool_size = (2, 2), strides = (2, 2), padding='valid'))\n",
        "model.add(BatchNormalization())\n",
        "# Convolution Step 3\n",
        "model.add(Convolution2D(384, 3, strides = (1, 1), padding='valid', activation = 'relu'))\n",
        "model.add(BatchNormalization())\n",
        "# Convolution Step 4\n",
        "model.add(Convolution2D(384, 3, strides = (1, 1), padding='valid', activation = 'relu'))\n",
        "model.add(BatchNormalization())\n",
        "# Convolution Step 5\n",
        "model.add(Convolution2D(256, 3, strides=(1,1), padding='valid', activation = 'relu'))\n",
        "# Max Pooling Step 3\n",
        "model.add(MaxPooling2D(pool_size = (2, 2), strides = (2, 2), padding = 'valid'))\n",
        "model.add(BatchNormalization())\n",
        "# Flattening Step\n",
        "model.add(Flatten())\n",
        "# Full Connection Step\n",
        "model.add(Dense(units = 4096, activation = 'relu'))\n",
        "model.add(Dropout(0.4))\n",
        "model.add(BatchNormalization())\n",
        "model.add(Dense(units = 4096, activation = 'relu'))\n",
        "model.add(Dropout(0.4))\n",
        "model.add(BatchNormalization())\n",
        "model.add(Dense(units = 1000, activation = 'relu'))\n",
        "model.add(Dropout(0.2))\n",
        "model.add(BatchNormalization())\n",
        "#output is 3 because of 3 classes\n",
        "model.add(Dense(units = 3, activation = 'softmax'))\n",
        "model.summary()"
      ]
    },
    {
      "cell_type": "code",
      "execution_count": null,
      "metadata": {
        "execution": {
          "iopub.execute_input": "2023-04-10T16:19:23.785164Z",
          "iopub.status.busy": "2023-04-10T16:19:23.784815Z",
          "iopub.status.idle": "2023-04-10T16:19:23.825216Z",
          "shell.execute_reply": "2023-04-10T16:19:23.824161Z",
          "shell.execute_reply.started": "2023-04-10T16:19:23.785125Z"
        },
        "id": "ycf3sh_t-tq6"
      },
      "outputs": [],
      "source": [
        "# Compiling the Model\n",
        "from keras.optimizers import Adam\n",
        "model.compile(optimizer=Adam(),\n",
        "              loss='categorical_crossentropy',\n",
        "              metrics=['accuracy'])"
      ]
    },
    {
      "cell_type": "code",
      "execution_count": null,
      "metadata": {
        "execution": {
          "iopub.execute_input": "2023-04-10T16:19:23.827842Z",
          "iopub.status.busy": "2023-04-10T16:19:23.826766Z",
          "iopub.status.idle": "2023-04-10T16:19:23.832888Z",
          "shell.execute_reply": "2023-04-10T16:19:23.831826Z",
          "shell.execute_reply.started": "2023-04-10T16:19:23.827805Z"
        },
        "id": "GbMnBNL3-tq6"
      },
      "outputs": [],
      "source": [
        "import tensorflow as tf\n",
        "tf.config.run_functions_eagerly(True)"
      ]
    },
    {
      "cell_type": "code",
      "execution_count": null,
      "metadata": {
        "execution": {
          "iopub.execute_input": "2023-04-10T16:19:23.835426Z",
          "iopub.status.busy": "2023-04-10T16:19:23.834337Z",
          "iopub.status.idle": "2023-04-10T16:19:23.843096Z",
          "shell.execute_reply": "2023-04-10T16:19:23.841867Z",
          "shell.execute_reply.started": "2023-04-10T16:19:23.835389Z"
        },
        "id": "3yMO7php-tq7"
      },
      "outputs": [],
      "source": [
        "#defining the custom fit for neural network training\n",
        "def custom_fit(model, x_train, y_train, batch_size=32, epochs=10, validation_data=None):\n",
        "    for epoch in range(epochs):\n",
        "        print(f\"Epoch {epoch+1}/{epochs}\")\n",
        "        for batch_index in range(0, len(x_train), batch_size):\n",
        "            X_batch = x_train[batch_index:batch_index+batch_size]\n",
        "            y_batch = y_train[batch_index:batch_index+batch_size]\n",
        "            loss = model.train_on_batch(X_batch, y_batch)\n",
        "            #print(\"Loss: \" + str(loss))"
      ]
    },
    {
      "cell_type": "code",
      "execution_count": null,
      "metadata": {
        "execution": {
          "iopub.execute_input": "2023-04-10T16:19:23.845673Z",
          "iopub.status.busy": "2023-04-10T16:19:23.844784Z",
          "iopub.status.idle": "2023-04-10T16:23:39.373428Z",
          "shell.execute_reply": "2023-04-10T16:23:39.372400Z",
          "shell.execute_reply.started": "2023-04-10T16:19:23.845611Z"
        },
        "id": "IZCOWbdX-tq7",
        "outputId": "9332d862-9385-4d78-bdb8-41525f43d249"
      },
      "outputs": [
        {
          "name": "stdout",
          "output_type": "stream",
          "text": [
            "Epoch 1/40\n",
            "Epoch 2/40\n",
            "Epoch 3/40\n",
            "Epoch 4/40\n",
            "Epoch 5/40\n",
            "Epoch 6/40\n",
            "Epoch 7/40\n",
            "Epoch 8/40\n",
            "Epoch 9/40\n",
            "Epoch 10/40\n",
            "Epoch 11/40\n",
            "Epoch 12/40\n",
            "Epoch 13/40\n",
            "Epoch 14/40\n",
            "Epoch 15/40\n",
            "Epoch 16/40\n",
            "Epoch 17/40\n",
            "Epoch 18/40\n",
            "Epoch 19/40\n",
            "Epoch 20/40\n",
            "Epoch 21/40\n",
            "Epoch 22/40\n",
            "Epoch 23/40\n",
            "Epoch 24/40\n",
            "Epoch 25/40\n",
            "Epoch 26/40\n",
            "Epoch 27/40\n",
            "Epoch 28/40\n",
            "Epoch 29/40\n",
            "Epoch 30/40\n",
            "Epoch 31/40\n",
            "Epoch 32/40\n",
            "Epoch 33/40\n",
            "Epoch 34/40\n",
            "Epoch 35/40\n",
            "Epoch 36/40\n",
            "Epoch 37/40\n",
            "Epoch 38/40\n",
            "Epoch 39/40\n",
            "Epoch 40/40\n"
          ]
        }
      ],
      "source": [
        "#model training\n",
        "custom_fit(model, x_train, y_train, epochs = 40, batch_size = 100)"
      ]
    },
    {
      "cell_type": "markdown",
      "metadata": {
        "id": "cRCZAVfZ-tq7"
      },
      "source": []
    },
    {
      "cell_type": "code",
      "execution_count": null,
      "metadata": {
        "execution": {
          "iopub.execute_input": "2023-04-10T16:39:15.902217Z",
          "iopub.status.busy": "2023-04-10T16:39:15.901634Z",
          "iopub.status.idle": "2023-04-10T16:39:15.930287Z",
          "shell.execute_reply": "2023-04-10T16:39:15.929295Z",
          "shell.execute_reply.started": "2023-04-10T16:39:15.902173Z"
        },
        "id": "gQoiQ6Rq-tq9"
      },
      "outputs": [],
      "source": [
        "#changing the dimensions of test dataset\n",
        "x_test = np.expand_dims(x_test, axis = 0)\n",
        "x_test = np.squeeze(x_test)"
      ]
    },
    {
      "cell_type": "code",
      "execution_count": null,
      "metadata": {
        "execution": {
          "iopub.execute_input": "2023-04-10T16:39:18.191743Z",
          "iopub.status.busy": "2023-04-10T16:39:18.190995Z",
          "iopub.status.idle": "2023-04-10T16:39:18.196468Z",
          "shell.execute_reply": "2023-04-10T16:39:18.195372Z",
          "shell.execute_reply.started": "2023-04-10T16:39:18.191682Z"
        },
        "id": "5Gd0Po5M-tq-"
      },
      "outputs": [],
      "source": [
        "#changing the dimensions of y_test\n",
        "y_test = to_categorical(y_test, num_classes = 3)"
      ]
    },
    {
      "cell_type": "code",
      "execution_count": null,
      "metadata": {
        "execution": {
          "iopub.execute_input": "2023-04-10T16:39:20.599908Z",
          "iopub.status.busy": "2023-04-10T16:39:20.598956Z",
          "iopub.status.idle": "2023-04-10T16:39:21.306525Z",
          "shell.execute_reply": "2023-04-10T16:39:21.305423Z",
          "shell.execute_reply.started": "2023-04-10T16:39:20.599856Z"
        },
        "id": "TnvC1t4A-tq-",
        "outputId": "b35c2ab2-7ef8-4fa2-8653-c6a397c2898b"
      },
      "outputs": [
        {
          "name": "stdout",
          "output_type": "stream",
          "text": [
            "19/19 [==============================] - 1s 30ms/step - loss: 0.2388 - accuracy: 0.9567\n"
          ]
        }
      ],
      "source": [
        "#model accuracy on test data\n",
        "results = model.evaluate(x_test, y_test)"
      ]
    }
  ],
  "metadata": {
    "kernelspec": {
      "display_name": "Python 3 (ipykernel)",
      "language": "python",
      "name": "python3"
    },
    "language_info": {
      "codemirror_mode": {
        "name": "ipython",
        "version": 3
      },
      "file_extension": ".py",
      "mimetype": "text/x-python",
      "name": "python",
      "nbconvert_exporter": "python",
      "pygments_lexer": "ipython3",
      "version": "3.9.13"
    },
    "colab": {
      "provenance": []
    }
  },
  "nbformat": 4,
  "nbformat_minor": 0
}